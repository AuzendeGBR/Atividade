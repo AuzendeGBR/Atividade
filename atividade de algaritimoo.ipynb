{
 "cells": [
  {
   "cell_type": "code",
   "execution_count": 6,
   "metadata": {},
   "outputs": [
    {
     "name": "stdout",
     "output_type": "stream",
     "text": [
      "é uma consoante\n"
     ]
    }
   ],
   "source": [
    "#1º)\n",
    "\n",
    "letra = input(\"digite uma letra: \")\n",
    "\n",
    "vogais = 'AEIOU'\n",
    "\n",
    "if letra in vogais or letra in vogais.upper():\n",
    "    print(\"é uma vogal\")\n",
    "else:\n",
    "    print(\"é uma consoante\")"
   ]
  },
  {
   "cell_type": "code",
   "execution_count": 7,
   "metadata": {},
   "outputs": [
    {
     "name": "stdout",
     "output_type": "stream",
     "text": [
      "compre o primeiro produto.\n"
     ]
    }
   ],
   "source": [
    "#2º)\n",
    "\n",
    "preço1 = float(input(\"Digite o preço do primeiro produto: \"))\n",
    "preço2 = float(input(\"Digite o preço do segundo produto: \"))\n",
    "preço3 = float(input(\"Digite o preço do terceiro produto: \"))\n",
    "\n",
    "if preço1 < preço2:\n",
    "    if preço1 < preço3:\n",
    "        print(\"compre o primeiro produto.\")\n",
    "    else:\n",
    "        print(\"compre o terceiro produto.\")\n",
    "else:\n",
    "    if preco2 < preco3:\n",
    "        print(\"compre o segundo produto.\")\n",
    "    else:\n",
    "        print(\"compre o segundo terceiro produto.\")"
   ]
  },
  {
   "cell_type": "code",
   "execution_count": 8,
   "metadata": {},
   "outputs": [
    {
     "name": "stdout",
     "output_type": "stream",
     "text": [
      "numeros em ordem decrescente: [70.0, 60.0, 50.0]\n"
     ]
    }
   ],
   "source": [
    "#3º)\n",
    "\n",
    "número1 = float(input(\"digite o primeiro número:\"))\n",
    "número2 = float(input(\"digite o segundo número:\"))\n",
    "número3 = float(input(\"digite o terceiro número:\"))\n",
    "numeros = [número1, número2, número3]\n",
    "numeros.sort(reverse=True)\n",
    "print(\"numeros em ordem decrescente:\",numeros)"
   ]
  },
  {
   "cell_type": "code",
   "execution_count": 9,
   "metadata": {},
   "outputs": [
    {
     "name": "stdout",
     "output_type": "stream",
     "text": [
      "Bom dia!\n"
     ]
    }
   ],
   "source": [
    "#4º)\n",
    "\n",
    "turno = input(\"Em qual turno voçê estuda ? Digite m para matutino, v para vespetino ou n para noturno:\")\n",
    "if turno == \"m\":\n",
    "  print(\"Bom dia!\")\n",
    "\n",
    "elif turno == \"v\":\n",
    "    print(\"Boa tarde!\")\n",
    "\n",
    "elif turno == \"n\":\n",
    "   print(\"Boa noite!\")\n",
    "else:\n",
    "   print(\"só pode m,v ou n \")"
   ]
  },
  {
   "cell_type": "code",
   "execution_count": 10,
   "metadata": {},
   "outputs": [
    {
     "name": "stdout",
     "output_type": "stream",
     "text": [
      "quinta-feira\n"
     ]
    }
   ],
   "source": [
    "#5º)\n",
    "\n",
    "dias_da_semana ={\n",
    "    1:\"segunda-feira\",\n",
    "    2:\"terça-feira\",\n",
    "    3:\"quarta-feira\",\n",
    "    4:\"quinta-feira\",\n",
    "    5:\"sexta-feira\",\n",
    "\n",
    "}\n",
    "num = int(input(\"digite um numero de 1 a 5 ne procure qual o numero da semana se refere:\"))\n",
    "\n",
    "if num in dias_da_semana:\n",
    "    print(dias_da_semana[num])\n",
    "else:\n",
    "    print('numero invalido tente novamente')"
   ]
  },
  {
   "cell_type": "code",
   "execution_count": 4,
   "metadata": {},
   "outputs": [
    {
     "name": "stdout",
     "output_type": "stream",
     "text": [
      "Seu conceito foi baixo, você foi reprovado por média\n"
     ]
    }
   ],
   "source": [
    "#5º)\n",
    "\n",
    "nota1 = float(input(\"Informe a primeira nota\"))\n",
    "nota2 = float(input(\"Informe a segunda nota\"))\n",
    "media = (nota1 + nota2) / 2\n",
    "\n",
    "if 9.0 <= media <10.0:\n",
    "    conceito = 'Perfeito'\n",
    "elif 7.5 <= media <9.0:\n",
    "    conceito = 'Muito bom'\n",
    "elif 6.0 <= media < 7.5:\n",
    "    conceito = 'Bom'\n",
    "elif 4.0 <= media < 6.0:\n",
    "    conceito = 'não foi suficiente'\n",
    "elif 0<= media < 4.0:\n",
    "    conceito = 'insificiente'\n",
    "else:\n",
    "    conceito = 'conceito inválido'\n",
    "if  conceito in ['a', 'b', 'c']:\n",
    "    print('aprovado parabens curta suas ferias!')\n",
    "else:\n",
    "    print ('Seu conceito foi baixo, você foi reprovado por média')"
   ]
  },
  {
   "cell_type": "code",
   "execution_count": 12,
   "metadata": {},
   "outputs": [
    {
     "name": "stdout",
     "output_type": "stream",
     "text": [
      "o ano2005 não é bissexto..\n"
     ]
    }
   ],
   "source": [
    "#6º)\n",
    "ano = int(input('Digite um ano: '))\n",
    "if (ano %4 == 0 and ano %100 != 0) or (ano % 400 == 0):\n",
    "    print(f'O ano{ano} é bissexto..')\n",
    "else:\n",
    "    print(f\"o ano{ano} não é bissexto..\")"
   ]
  },
  {
   "cell_type": "code",
   "execution_count": 2,
   "metadata": {},
   "outputs": [
    {
     "name": "stdout",
     "output_type": "stream",
     "text": [
      "O resultado foi 89.0, que é ímpar, positivo, e , inteiro.\n"
     ]
    }
   ],
   "source": [
    "#7º)\n",
    "\n",
    "num1 = float(input(\"Digite o primeiro número: \"))\n",
    "num2 = float(input(\"Digite o segundo número: \"))\n",
    "operacao = input(\"Qual operação você deseja realizar? (+,-, , /, *): \")\n",
    "if operacao == '+':\n",
    "    resultado = num1 + num2\n",
    "elif operacao == '-':\n",
    "    resultado = num1 - num2\n",
    "elif operacao == '*':\n",
    "    resultado = num1 * num2\n",
    "elif operacao == '/':\n",
    "    resultado = num1 / num2\n",
    "elif operacao == '**':\n",
    "    resultado = num1 ** num2\n",
    "else:\n",
    "    print(\"Operação inválida.\")\n",
    "    resultado = None\n",
    "if resultado is not None:\n",
    "    if resultado % 2 == 0:\n",
    "        resul1 = \"par\"\n",
    "    else:\n",
    "        resul1 = \"ímpar\"\n",
    "\n",
    "    if resultado >= 0:\n",
    "        resul2 = \"positivo\"\n",
    "    else:\n",
    "        resul2 = \"negativo\"\n",
    "\n",
    "\n",
    "    if resultado == int(resultado):\n",
    "        resul3 = \"inteiro\"\n",
    "    else:\n",
    "        resul3 = \"decimal\"\n",
    "    print(f\"O resultado foi {resultado}, que é {resul1}, {resul2}, e , {resul3}.\")\n"
   ]
  },
  {
   "cell_type": "code",
   "execution_count": 14,
   "metadata": {},
   "outputs": [
    {
     "name": "stdout",
     "output_type": "stream",
     "text": [
      "sua idade e de 18\n"
     ]
    }
   ],
   "source": [
    "#8º)\n",
    "\n",
    "idade = int(input(\"digite sua idade:\"))\n",
    "if 0<= idade <= 150:\n",
    "    print(f'sua idade e de {idade}')\n",
    "else:\n",
    "    print('idade inválida tente novamente!')"
   ]
  },
  {
   "cell_type": "code",
   "execution_count": 15,
   "metadata": {},
   "outputs": [
    {
     "name": "stdout",
     "output_type": "stream",
     "text": [
      "a soma dos numeros de: 15.0\n",
      "a media dos numeros deu: 3.0\n"
     ]
    }
   ],
   "source": [
    "#9º)\n",
    "num = []\n",
    "for t in range(5):\n",
    "    numero = float(input(f'digite o {t +1}º numero:'))\n",
    "    num.append(numero)\n",
    "    soma = 0\n",
    "    for numero in num:\n",
    "        soma += numero\n",
    "        media = soma / len(num)\n",
    "        \n",
    "print(f'a soma dos numeros de: {soma}')\n",
    "print(f'a media dos numeros deu: {media}')"
   ]
  },
  {
   "cell_type": "code",
   "execution_count": 17,
   "metadata": {},
   "outputs": [
    {
     "name": "stdout",
     "output_type": "stream",
     "text": [
      "1 não é um  primo.\n"
     ]
    }
   ],
   "source": [
    "#10º)\n",
    "\n",
    "sugestao = int(input('coloque um numero inteiro: '))\n",
    "if sugestao >1:\n",
    "    for p in range(2, int(sugestao**0.5)+1):\n",
    "        if sugestao % p ==0:\n",
    "            print(f'{sugestao} não e primo .')\n",
    "            \n",
    "        else:\n",
    "          print(f'{sugestao} não é um  primo .')\n",
    "else:\n",
    "    print(f\"{sugestao} não é um  primo.\")"
   ]
  },
  {
   "cell_type": "code",
   "execution_count": 18,
   "metadata": {},
   "outputs": [
    {
     "name": "stdout",
     "output_type": "stream",
     "text": [
      "a menor temperatura é:  1.0\n",
      "a maior temperatura é: 9.0\n",
      "a média das temperaturas é: 4.0\n"
     ]
    }
   ],
   "source": [
    "#11º)\n",
    "\n",
    "temp = []\n",
    "\n",
    "for j in range(5):\n",
    "    temps = float(input(f'digite a temperatura {j+1}: '))\n",
    "    temp.append(temps)\n",
    "\n",
    "menor_temp = min(temp)\n",
    "maior_temp = max(temp)\n",
    "\n",
    "media_temps = sum(temp) / len(temp)\n",
    "\n",
    "print(f'a menor temperatura é:  {menor_temp}')\n",
    "print(f'a maior temperatura é: {maior_temp}')\n",
    "print(f'a média das temperaturas é: {media_temps}')"
   ]
  },
  {
   "cell_type": "code",
   "execution_count": 19,
   "metadata": {},
   "outputs": [
    {
     "name": "stdout",
     "output_type": "stream",
     "text": [
      "Saldo médio: 500000000000000.00\n",
      "Seu crédito especial é de 200000000000000.00.\n"
     ]
    }
   ],
   "source": [
    "#12º)\n",
    "saldo_medio = float(input(\"Digite o saldo médio do cliente: \"))\n",
    "\n",
    "if saldo_medio <= 200:\n",
    "    print(f\"Saldo médio: {saldo_medio:.2f}\")\n",
    "    print(\"Nenhum crédito disponível.\")\n",
    "elif saldo_medio <= 400:\n",
    "    credito = saldo_medio * 0.2\n",
    "    print(f\"Saldo médio: {saldo_medio:.2f}\")\n",
    "    print(f\"Seu crédito especial é de {credito:.2f}.\")\n",
    "elif saldo_medio <= 600:\n",
    "    credito = saldo_medio * 0.3\n",
    "    print(f\"Saldo médio: {saldo_medio:.2f}\")\n",
    "    print(f\"Seu crédito especial é de {credito:.2f}.\")\n",
    "else:\n",
    "    credito = saldo_medio * 0.4\n",
    "    print(f\"Saldo médio: {saldo_medio:.2f}\")\n",
    "    print(f\"Seu crédito especial é de {credito:.2f}.\")"
   ]
  },
  {
   "cell_type": "code",
   "execution_count": 20,
   "metadata": {},
   "outputs": [
    {
     "name": "stdout",
     "output_type": "stream",
     "text": [
      "rafael voce podera se aposentar em 2071..\n"
     ]
    }
   ],
   "source": [
    "#13º)\n",
    "\n",
    "nome = input('diga o seu nome: ')\n",
    "idade = int(input(f'{nome} quantos anos voce tem?? '))\n",
    "\n",
    "ano = 2024\n",
    "idade_max = 65\n",
    "ano_aposentadoria = ano + (idade_max - idade)\n",
    "\n",
    "print(f'{nome} voce podera se aposentar em {ano_aposentadoria}..')\n"
   ]
  },
  {
   "cell_type": "code",
   "execution_count": 21,
   "metadata": {},
   "outputs": [
    {
     "name": "stdout",
     "output_type": "stream",
     "text": [
      "\n",
      "Folha de Pagamento:\n",
      "Salário Bruto: R$ 19000.00\n",
      "Desconto do Imposto de Renda: R$ 5225.00\n",
      "Desconto do Sindicato: R$ 570.00\n",
      "FGTS: R$ 2090.00\n",
      "Salário Líquido: R$ 13205.00\n"
     ]
    }
   ],
   "source": [
    "#14º)\n",
    "\n",
    "valor_hora = float(input(\"Qual o valor da sua hora de trabalho? \"))\n",
    "horas_trabalhadas = float(input(\"Quantas horas você trabalhou neste mês? \"))\n",
    "\n",
    "\n",
    "salario_bruto = valor_hora * horas_trabalhadas\n",
    "\n",
    "if salario_bruto <= 2112.00:\n",
    "    porcentagem_ir = 0\n",
    "elif salario_bruto <= 3751.05:\n",
    "    porcentagem_ir = 0.075\n",
    "elif salario_bruto <= 4664.68:\n",
    "    porcentagem_ir = 0.225\n",
    "else:\n",
    "    porcentagem_ir = 0.275\n",
    "\n",
    "\n",
    "desconto_ir = salario_bruto * porcentagem_ir\n",
    "\n",
    "\n",
    "desconto_sindicato = salario_bruto * 0.03\n",
    "fgts = salario_bruto * 0.11\n",
    "\n",
    "\n",
    "salario_liquido = salario_bruto - desconto_ir - desconto_sindicato\n",
    "\n",
    "\n",
    "print(\"\\nFolha de Pagamento:\")\n",
    "print(f\"Salário Bruto: R$ {salario_bruto:.2f}\\n\"\n",
    "      f\"Desconto do Imposto de Renda: R$ {desconto_ir:.2f}\\n\"\n",
    "      f\"Desconto do Sindicato: R$ {desconto_sindicato:.2f}\\n\"\n",
    "      f\"FGTS: R$ {fgts:.2f}\\n\"\n",
    "      f\"Salário Líquido: R$ {salario_liquido:.2f}\")"
   ]
  }
 ],
 "metadata": {
  "kernelspec": {
   "display_name": "Python 3",
   "language": "python",
   "name": "python3"
  },
  "language_info": {
   "codemirror_mode": {
    "name": "ipython",
    "version": 3
   },
   "file_extension": ".py",
   "mimetype": "text/x-python",
   "name": "python",
   "nbconvert_exporter": "python",
   "pygments_lexer": "ipython3",
   "version": "3.12.2"
  }
 },
 "nbformat": 4,
 "nbformat_minor": 2
}
